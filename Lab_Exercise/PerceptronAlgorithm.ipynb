{
 "cells": [
  {
   "cell_type": "markdown",
   "metadata": {},
   "source": [
    "Importing the required libraries"
   ]
  },
  {
   "cell_type": "code",
   "execution_count": null,
   "metadata": {},
   "outputs": [],
   "source": [
    "#importing the required libraries\n",
    "import numpy as np"
   ]
  },
  {
   "cell_type": "markdown",
   "metadata": {},
   "source": [
    "Calculation of Net and Output & Update Weights"
   ]
  },
  {
   "cell_type": "code",
   "execution_count": null,
   "metadata": {},
   "outputs": [],
   "source": [
    "# Function for calculation of net\n",
    "def net(X,W):\n",
    "    net= np.dot(X,W)\n",
    "    return net"
   ]
  },
  {
   "cell_type": "code",
   "execution_count": null,
   "metadata": {},
   "outputs": [],
   "source": [
    "def output(lam,net,actfunc):\n",
    "    match actfunc:\n",
    "        case 'bipolarcont':\n",
    "            out= (2/(1+np.exp(-lam*net)))-1\n",
    "            return out\n",
    "        case 'bipolardisc':\n",
    "            if net>0:\n",
    "                return 1\n",
    "            else:\n",
    "                return -1\n",
    "        case 'unipolarcont':\n",
    "            out= (1/(1+np.exp(-lam*net)))\n",
    "            return out\n",
    "        case 'unipolardisc':\n",
    "            if net>0:\n",
    "                return 1\n",
    "            else:\n",
    "                return 0\n",
    "        case _:\n",
    "            return 0   # 0 is the default case if x is not found"
   ]
  },
  {
   "cell_type": "code",
   "execution_count": null,
   "metadata": {},
   "outputs": [],
   "source": [
    "#Update Function\n",
    "def upd_weight(c,d,out,X):\n",
    "    return 0.5*(d-out)*X"
   ]
  },
  {
   "cell_type": "markdown",
   "metadata": {},
   "source": [
    "Perceptron Algorithm"
   ]
  },
  {
   "cell_type": "code",
   "execution_count": null,
   "metadata": {},
   "outputs": [],
   "source": [
    "def perceptron(c,lam,X,W,d,iterations,actfunc):\n",
    "    for j in range(0,iterations):\n",
    "        print(\"Epoch:\", j)\n",
    "        print(\"-------------------------------------------\")\n",
    "        for i,x in enumerate(X):\n",
    "            net1=net(x,W)\n",
    "            out1=output(lam,net1,actfunc)\n",
    "            W=W+0.5*(d[i]-out1)*x\n",
    "            print(\"Weight Updates for input\",i, \" - \" ,W)\n",
    "    return W"
   ]
  },
  {
   "cell_type": "markdown",
   "metadata": {},
   "source": [
    "Training of the Algorithm"
   ]
  },
  {
   "cell_type": "code",
   "execution_count": null,
   "metadata": {},
   "outputs": [],
   "source": [
    "# Initialization of X,W, lambda, c\n",
    "X=np.array([[1,1],[-0.5,1],[3,1],[-2,1],[-0.1,1],[8,1],[0.3,1]])\n",
    "d=np.array([[1],[-1],[1],[-1],[-1],[1],[1]])\n",
    "W=np.array([-2.5,1.75])\n",
    "c=0.01\n",
    "lam=0.1\n",
    "iterations=7\n",
    "actfunc='bipolardisc'\n",
    "\n",
    "#perceptron\n",
    "W1=perceptron(c,lam,X,W,d,iterations,actfunc)\n",
    "print(W1)"
   ]
  },
  {
   "cell_type": "markdown",
   "metadata": {},
   "source": [
    "Testing of the Algorithm"
   ]
  },
  {
   "cell_type": "code",
   "execution_count": null,
   "metadata": {},
   "outputs": [],
   "source": [
    "# New inputs\n",
    "N=np.array([[5,1],[-0.7,1],[8.5,1],[-3.55,1]])\n",
    "final_out=[]\n",
    "c=1\n",
    "lam=1\n",
    "\n",
    "#testing\n",
    "for itr,n in enumerate(N):\n",
    "    net1=net(n,W1)\n",
    "    out1=output(lam,net1,actfunc)\n",
    "    print(\"Output for\",itr)\n",
    "    print(\"---------------------------------------\")\n",
    "    print(\"input\")\n",
    "    print(\"------\")\n",
    "    print(n)\n",
    "    print(\"output:\",out1)\n",
    "    print(\"---------------------------------------\")\n",
    "    final_out=final_out+[out1]\n",
    "\n",
    "print(final_out)"
   ]
  }
 ],
 "metadata": {
  "kernelspec": {
   "display_name": "Python 3.10.5 64-bit",
   "language": "python",
   "name": "python3"
  },
  "language_info": {
   "codemirror_mode": {
    "name": "ipython",
    "version": 3
   },
   "file_extension": ".py",
   "mimetype": "text/x-python",
   "name": "python",
   "nbconvert_exporter": "python",
   "pygments_lexer": "ipython3",
   "version": "3.10.5"
  },
  "orig_nbformat": 4,
  "vscode": {
   "interpreter": {
    "hash": "84acd9daa1976748b0cb1aac2d1d7e831b987877e0682bbd8df981985727d27e"
   }
  }
 },
 "nbformat": 4,
 "nbformat_minor": 2
}
