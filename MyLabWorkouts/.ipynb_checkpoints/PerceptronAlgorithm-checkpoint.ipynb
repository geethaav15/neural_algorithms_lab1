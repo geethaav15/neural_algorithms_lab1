{
 "cells": [
  {
   "cell_type": "markdown",
   "metadata": {},
   "source": [
    "# Importing the required libraries"
   ]
  },
  {
   "cell_type": "code",
   "execution_count": 38,
   "metadata": {},
   "outputs": [],
   "source": [
    "#importing the required libraries\n",
    "import numpy as np"
   ]
  },
  {
   "cell_type": "markdown",
   "metadata": {},
   "source": [
    "# Calculation of Net and Output & Update Weights"
   ]
  },
  {
   "cell_type": "code",
   "execution_count": 39,
   "metadata": {},
   "outputs": [],
   "source": [
    "# Function for calculation of net\n",
    "def net(X,W):\n",
    "    net= np.dot(X,W)\n",
    "    return net"
   ]
  },
  {
   "cell_type": "code",
   "execution_count": 40,
   "metadata": {},
   "outputs": [],
   "source": [
    "#output Function\n",
    "def output(lam,net,actfunc):\n",
    "        if(actfunc==\"bipolarcont\"):\n",
    "            out= (2/(1+np.exp(-lam*net)))-1\n",
    "            return out\n",
    "        elif(actfunc==\"bipolardisc\"):\n",
    "            if net>0:\n",
    "                return 1\n",
    "            else:\n",
    "                return -1\n",
    "        elif(actfunc==\"unipolarcont\"):\n",
    "            out= (1/(1+np.exp(-lam*net)))\n",
    "            return out\n",
    "        elif(actfunc==\"unipolardisc\"):\n",
    "            if net>0:\n",
    "                return 1\n",
    "            else:\n",
    "                return 0\n",
    "        else:\n",
    "            return 0   # 0 is the default case if x is not found"
   ]
  },
  {
   "cell_type": "code",
   "execution_count": 41,
   "metadata": {},
   "outputs": [],
   "source": [
    "#Update Function\n",
    "def upd_weight(c,d,out,X,actfunc):\n",
    "    if(actfunc==\"bipolarcont\"):\n",
    "        return 0.5*c*(d-out)*(1-(out*out))*X\n",
    "    elif(actfunc==\"bipolardisc\"):\n",
    "        return 0.5*c*(d-out)*X\n",
    "    elif(actfunc==\"unipolarcont\"):\n",
    "        return 0.5*c*(d-out)*(1-out)*out*X\n",
    "    elif(actfunc==\"unipolardisc\"):\n",
    "            return 0.5*c*(d-out)*X\n",
    "    else:\n",
    "        return 0   # 0 is the default case if x is not found\n",
    "   "
   ]
  },
  {
   "cell_type": "markdown",
   "metadata": {},
   "source": [
    "# Perceptron Algorithm"
   ]
  },
  {
   "cell_type": "code",
   "execution_count": 78,
   "metadata": {},
   "outputs": [],
   "source": [
    "def perceptron(c,lam,X,W,d,iterations,actfunc):\n",
    "    for j in range(0,iterations):\n",
    "        ##print(\"Epoch:\", j)\n",
    "        ##print(\"-------------------------------------------\")\n",
    "        for i,x in enumerate(X):\n",
    "            net1=net(x,W)\n",
    "            out1=output(lam,net1,actfunc)\n",
    "            W=W+upd_weight(c,d[i],out1,x,actfunc)\n",
    "        return W"
   ]
  },
  {
   "cell_type": "markdown",
   "metadata": {},
   "source": [
    "# Training of the Algorithm"
   ]
  },
  {
   "cell_type": "code",
   "execution_count": 51,
   "metadata": {},
   "outputs": [
    {
     "name": "stdout",
     "output_type": "stream",
     "text": [
      "[ 2.7  -0.25]\n"
     ]
    }
   ],
   "source": [
    "# Initialization of X,W, lambda, c\n",
    "X=np.array([[1,1],[-0.5,1],[3,1],[-2,1],[-0.1,1],[8,1],[0.3,1]])\n",
    "d=np.array([[1],[-1],[1],[-1],[-1],[1],[1]])\n",
    "W=np.array([-2.5,1.75])\n",
    "c=1\n",
    "lam=1\n",
    "iterations=4\n",
    "actfunc='bipolardisc'\n",
    "\n",
    "#perceptron\n",
    "W1=perceptron(c,lam,X,W,d,iterations,actfunc)\n",
    "print(W1)"
   ]
  },
  {
   "cell_type": "markdown",
   "metadata": {},
   "source": [
    "# Testing of the Algorithm"
   ]
  },
  {
   "cell_type": "code",
   "execution_count": 52,
   "metadata": {},
   "outputs": [
    {
     "name": "stdout",
     "output_type": "stream",
     "text": [
      "input: [5. 1.] output: 1\n",
      "input: [-1.  1.] output: -1\n",
      "input: [8.5 1. ] output: 1\n",
      "input: [-3.55  1.  ] output: -1\n",
      "Final Output: [1, -1, 1, -1]\n"
     ]
    }
   ],
   "source": [
    "# New inputs\n",
    "N=np.array([[5,1],[-1,1],[8.5,1],[-3.55,1]])\n",
    "final_out=[]\n",
    "c=1\n",
    "lam=1\n",
    "\n",
    "#testing\n",
    "for itr,n in enumerate(N):\n",
    "    net1=net(n,W1)\n",
    "    out1=output(lam,net1,actfunc)\n",
    "    print(\"input:\", n, \"output:\", out1)\n",
    "    final_out=final_out+[out1]\n",
    "print(\"Final Output:\",final_out)"
   ]
  },
  {
   "cell_type": "markdown",
   "metadata": {},
   "source": [
    "# Changing of Weights"
   ]
  },
  {
   "cell_type": "code",
   "execution_count": 53,
   "metadata": {},
   "outputs": [
    {
     "name": "stdout",
     "output_type": "stream",
     "text": [
      "[ 6.5  -1.66]\n"
     ]
    }
   ],
   "source": [
    "# Initialization of X,W, lambda, c\n",
    "X=np.array([[1,1],[-0.5,1],[3,1],[-2,1],[-0.1,1],[8,1],[0.3,1]])\n",
    "d=np.array([[1],[-1],[1],[-1],[-1],[1],[1]])\n",
    "W=np.array([3.3,-7.66])\n",
    "c=1\n",
    "lam=1\n",
    "iterations=8\n",
    "actfunc='bipolardisc'\n",
    "\n",
    "#perceptron\n",
    "W1=perceptron(c,lam,X,W,d,iterations,actfunc)\n",
    "print(W1)"
   ]
  },
  {
   "cell_type": "code",
   "execution_count": 54,
   "metadata": {},
   "outputs": [
    {
     "name": "stdout",
     "output_type": "stream",
     "text": [
      "input: [5. 1.] output: 1\n",
      "input: [-1.  1.] output: -1\n",
      "input: [8.5 1. ] output: 1\n",
      "input: [-3.55  1.  ] output: -1\n",
      "Final Output: [1, -1, 1, -1]\n"
     ]
    }
   ],
   "source": [
    "# Testing new inputs with learned weights\n",
    "N=np.array([[5,1],[-1,1],[8.5,1],[-3.55,1]])\n",
    "final_out=[]\n",
    "c=1\n",
    "lam=1\n",
    "\n",
    "#testing\n",
    "for itr,n in enumerate(N):\n",
    "    net1=net(n,W1)\n",
    "    out1=output(lam,net1,actfunc)\n",
    "    print(\"input:\", n, \"output:\", out1)\n",
    "    final_out=final_out+[out1]\n",
    "print(\"Final Output:\",final_out)"
   ]
  },
  {
   "cell_type": "markdown",
   "metadata": {},
   "source": [
    "# Changing of c and lambda & Testing"
   ]
  },
  {
   "cell_type": "code",
   "execution_count": 58,
   "metadata": {},
   "outputs": [
    {
     "name": "stdout",
     "output_type": "stream",
     "text": [
      "[ 4.34 -6.06]\n"
     ]
    }
   ],
   "source": [
    "# Initialization of X,W, lambda, c\n",
    "X=np.array([[1,1],[-0.5,1],[3,1],[-2,1],[-0.1,1],[8,1],[0.3,1]])\n",
    "d=np.array([[1],[-1],[1],[-1],[-1],[1],[1]])\n",
    "W=np.array([3.3,-7.66])\n",
    "c=0.1\n",
    "lam=0.01\n",
    "iterations=8\n",
    "actfunc='bipolardisc'\n",
    "\n",
    "#perceptron\n",
    "W1=perceptron(c,lam,X,W,d,iterations,actfunc)\n",
    "print(W1)"
   ]
  },
  {
   "cell_type": "code",
   "execution_count": 57,
   "metadata": {},
   "outputs": [
    {
     "name": "stdout",
     "output_type": "stream",
     "text": [
      "input: [5. 1.] output: 1\n",
      "input: [-1.  1.] output: -1\n",
      "input: [8.5 1. ] output: 1\n",
      "input: [-3.55  1.  ] output: -1\n",
      "Final Output: [1, -1, 1, -1]\n"
     ]
    }
   ],
   "source": [
    "# Testing new inputs with learned weights\n",
    "N=np.array([[5,1],[-1,1],[8.5,1],[-3.55,1]])\n",
    "final_out=[]\n",
    "c=0.1\n",
    "lam=0.01\n",
    "\n",
    "#testing\n",
    "for itr,n in enumerate(N):\n",
    "    net1=net(n,W1)\n",
    "    out1=output(lam,net1,actfunc)\n",
    "    print(\"input:\", n, \"output:\", out1)\n",
    "    final_out=final_out+[out1]\n",
    "print(\"Final Output:\",final_out)"
   ]
  },
  {
   "cell_type": "markdown",
   "metadata": {},
   "source": [
    "# Separation of above 100 and below 100"
   ]
  },
  {
   "cell_type": "code",
   "execution_count": 79,
   "metadata": {},
   "outputs": [
    {
     "name": "stdout",
     "output_type": "stream",
     "text": [
      "[506.   0.]\n",
      "input: 98 output: Number is Above or Equal to 100\n",
      "input: 99 output: Number is Above or Equal to 100\n",
      "input: 100 output: Number is Above or Equal to 100\n",
      "input: 101 output: Number is Above or Equal to 100\n"
     ]
    }
   ],
   "source": [
    "# Initialization of X,W, lambda, c\n",
    "X=np.array([[100,1],[85,1],[104,1],[98,1],[57,1],[125,1],[200,1],[-33,1],[99,1],[563,1],[263,1],[103,1]])\n",
    "d=np.array([[1],[-1],[1],[-1],[-1],[1],[1],[-1],[-1],[1],[1],[1]])\n",
    "W=np.array([0,0])\n",
    "c=1\n",
    "lam=0.01\n",
    "iterations=500\n",
    "actfunc='bipolardisc'\n",
    "\n",
    "#perceptron\n",
    "W1=perceptron(c,lam,X,W,d,iterations,actfunc)\n",
    "print(W1)\n",
    "\n",
    "\n",
    "# Testing new inputs with learned weights\n",
    "N=np.array([[98,1],[99,1],[100,1],[101,1]])\n",
    "final_out=[]\n",
    "c=0.1\n",
    "lam=0.01\n",
    "\n",
    "#testing\n",
    "for itr,n in enumerate(N):\n",
    "    net1=net(n,W1)\n",
    "    out1=output(lam,net1,actfunc)\n",
    "    if(out1==1):\n",
    "        str1=\"Number is Above or Equal to 100\"\n",
    "    else:\n",
    "        str1=\"Number is Below 100\"\n",
    "    print(\"input:\", n[0], \"output:\", str1)\n",
    "    final_out=final_out+[out1]"
   ]
  },
  {
   "cell_type": "code",
   "execution_count": null,
   "metadata": {},
   "outputs": [],
   "source": []
  }
 ],
 "metadata": {
  "kernelspec": {
   "display_name": "Python 3 (ipykernel)",
   "language": "python",
   "name": "python3"
  },
  "language_info": {
   "codemirror_mode": {
    "name": "ipython",
    "version": 3
   },
   "file_extension": ".py",
   "mimetype": "text/x-python",
   "name": "python",
   "nbconvert_exporter": "python",
   "pygments_lexer": "ipython3",
   "version": "3.9.12"
  },
  "vscode": {
   "interpreter": {
    "hash": "84acd9daa1976748b0cb1aac2d1d7e831b987877e0682bbd8df981985727d27e"
   }
  }
 },
 "nbformat": 4,
 "nbformat_minor": 2
}
